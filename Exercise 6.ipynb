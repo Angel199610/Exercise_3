{
 "cells": [
  {
   "cell_type": "code",
   "execution_count": 1,
   "metadata": {},
   "outputs": [
    {
     "name": "stdout",
     "output_type": "stream",
     "text": [
      "21.933333333333334\n"
     ]
    }
   ],
   "source": [
    "#mean List 1\n",
    "import numpy as np\n",
    "list_1_Age: [20,27,21,23,19,24,21,19,19,22,25,27,21,19,21,21,20,23,20,20,27,23,21,19,20,22,21,23,20,30]\n",
    "Age_array = [20,27,21,23,19,24,21,19,19,22,25,27,21,19,21,21,20,23,20,20,27,23,21,19,20,22,21,23,20,30]\n",
    "Age_array = np.mean(Age_array)\n",
    "print(Age_array)"
   ]
  },
  {
   "cell_type": "code",
   "execution_count": 2,
   "metadata": {},
   "outputs": [
    {
     "name": "stdout",
     "output_type": "stream",
     "text": [
      "2.780087928265739\n"
     ]
    }
   ],
   "source": [
    "#Stand Variation\n",
    "list_1_Age= [20,27,21,23,19,24,21,19,19,22,25,27,21,19,21,21,20,23,20,20,27,23,21,19,20,22,21,23,20,30]\n",
    "list_1_Age= [20,27,21,23,19,24,21,19,19,22,25,27,21,19,21,21,20,23,20,20,27,23,21,19,20,22,21,23,20,30]\n",
    "list_1_Age = np.std(list_1_Age)\n",
    "print(list_1_Age)"
   ]
  },
  {
   "cell_type": "code",
   "execution_count": 3,
   "metadata": {},
   "outputs": [
    {
     "name": "stdout",
     "output_type": "stream",
     "text": [
      "7.728888888888889\n"
     ]
    }
   ],
   "source": [
    "#Variance\n",
    "import numpy as np\n",
    "list_1_Age: [20,27,21,23,19,24,21,19,19,22,25,27,21,19,21,21,20,23,20,20,27,23,21,19,20,22,21,23,20,30]\n",
    "list_1_Age = [20,27,21,23,19,24,21,19,19,22,25,27,21,19,21,21,20,23,20,20,27,23,21,19,20,22,21,23,20,30]\n",
    "list_1_Age = np.var(list_1_Age)\n",
    "print(list_1_Age)"
   ]
  },
  {
   "cell_type": "code",
   "execution_count": 4,
   "metadata": {},
   "outputs": [
    {
     "name": "stdout",
     "output_type": "stream",
     "text": [
      "110.13333333333334\n"
     ]
    }
   ],
   "source": [
    "#list 2 Variance\n",
    "import numpy as np\n",
    "weight = [74,47,54,30,59,65,69,57,55,78,60,80,58,50,50,50,49,70,62,55,55,60,45,70,55,67,67,64,50,65]\n",
    "weight_array = [74,47,54,30,59,65,69,57,55,78,60,80,58,50,50,50,49,70,62,55,55,60,45,70,55,67,67,64,50,65]\n",
    "weight_array = np.var(weight_array)\n",
    "print(weight_array)"
   ]
  },
  {
   "cell_type": "code",
   "execution_count": 5,
   "metadata": {},
   "outputs": [
    {
     "name": "stdout",
     "output_type": "stream",
     "text": [
      "59.0\n"
     ]
    }
   ],
   "source": [
    "#Mean list 2\n",
    "weight = [74,47,54,30,59,65,69,57,55,78,60,80,58,50,50,50,49,70,62,55,55,60,45,70,55,67,67,64,50,65]\n",
    "weight_array = [74,47,54,30,59,65,69,57,55,78,60,80,58,50,50,50,49,70,62,55,55,60,45,70,55,67,67,64,50,65]\n",
    "weight_array = np.mean(weight_array)\n",
    "print(weight_array)"
   ]
  },
  {
   "cell_type": "code",
   "execution_count": 6,
   "metadata": {},
   "outputs": [
    {
     "ename": "NameError",
     "evalue": "name 'weight_array' is not defined",
     "output_type": "error",
     "traceback": [
      "\u001b[1;31m---------------------------------------------------------------------------\u001b[0m",
      "\u001b[1;31mNameError\u001b[0m                                 Traceback (most recent call last)",
      "Cell \u001b[1;32mIn[6], line 5\u001b[0m\n\u001b[0;32m      3\u001b[0m weight \u001b[39m=\u001b[39m [\u001b[39m74\u001b[39m,\u001b[39m47\u001b[39m,\u001b[39m54\u001b[39m,\u001b[39m30\u001b[39m,\u001b[39m59\u001b[39m,\u001b[39m65\u001b[39m,\u001b[39m69\u001b[39m,\u001b[39m57\u001b[39m,\u001b[39m55\u001b[39m,\u001b[39m78\u001b[39m,\u001b[39m60\u001b[39m,\u001b[39m80\u001b[39m,\u001b[39m58\u001b[39m,\u001b[39m50\u001b[39m,\u001b[39m50\u001b[39m,\u001b[39m50\u001b[39m,\u001b[39m49\u001b[39m,\u001b[39m70\u001b[39m,\u001b[39m62\u001b[39m,\u001b[39m55\u001b[39m,\u001b[39m55\u001b[39m,\u001b[39m60\u001b[39m,\u001b[39m45\u001b[39m,\u001b[39m70\u001b[39m,\u001b[39m55\u001b[39m,\u001b[39m67\u001b[39m,\u001b[39m67\u001b[39m,\u001b[39m64\u001b[39m,\u001b[39m50\u001b[39m,\u001b[39m65\u001b[39m]\n\u001b[0;32m      4\u001b[0m weigth_array \u001b[39m=\u001b[39m [\u001b[39m74\u001b[39m,\u001b[39m47\u001b[39m,\u001b[39m54\u001b[39m,\u001b[39m30\u001b[39m,\u001b[39m59\u001b[39m,\u001b[39m65\u001b[39m,\u001b[39m69\u001b[39m,\u001b[39m57\u001b[39m,\u001b[39m55\u001b[39m,\u001b[39m78\u001b[39m,\u001b[39m60\u001b[39m,\u001b[39m80\u001b[39m,\u001b[39m58\u001b[39m,\u001b[39m50\u001b[39m,\u001b[39m50\u001b[39m,\u001b[39m50\u001b[39m,\u001b[39m49\u001b[39m,\u001b[39m70\u001b[39m,\u001b[39m62\u001b[39m,\u001b[39m55\u001b[39m,\u001b[39m55\u001b[39m,\u001b[39m60\u001b[39m,\u001b[39m45\u001b[39m,\u001b[39m70\u001b[39m,\u001b[39m55\u001b[39m,\u001b[39m67\u001b[39m,\u001b[39m67\u001b[39m,\u001b[39m64\u001b[39m,\u001b[39m50\u001b[39m,\u001b[39m65\u001b[39m]\n\u001b[1;32m----> 5\u001b[0m weight_array \u001b[39m=\u001b[39m np\u001b[39m.\u001b[39mstd(weight_array)\n\u001b[0;32m      6\u001b[0m \u001b[39mprint\u001b[39m(weight_array)\n",
      "\u001b[1;31mNameError\u001b[0m: name 'weight_array' is not defined"
     ]
    }
   ],
   "source": [
    "#Standard list 2\n",
    "import numpy as np\n",
    "weight = [74,47,54,30,59,65,69,57,55,78,60,80,58,50,50,50,49,70,62,55,55,60,45,70,55,67,67,64,50,65]\n",
    "weigth_array = [74,47,54,30,59,65,69,57,55,78,60,80,58,50,50,50,49,70,62,55,55,60,45,70,55,67,67,64,50,65]\n",
    "weight_array = np.std(weight_array)\n",
    "print(weight_array)"
   ]
  },
  {
   "cell_type": "code",
   "execution_count": 3,
   "metadata": {},
   "outputs": [
    {
     "name": "stdout",
     "output_type": "stream",
     "text": [
      "[77.8, 157.48, 185.42, 185.42, 175.26, 175.26, 157.48, 167.64, 154.94, 162.56, 175.26, 172.72, 188.42, 165.1, 175.26, 175.26, 160.02, 162.56, 101.6, 162.56, 93.98, 165.1, 157.48, 101.6, 170.18, 175.26, 137.16, 165.1, 157.48, 104.14, 170.18, 162.56]\n"
     ]
    }
   ],
   "source": [
    "#List 3 Height\n",
    "#Mean\n",
    "import numpy as np\n",
    "height=[77.8,157.48,185.42,185.42,175.26,175.26,157.48,167.64,154.94,162.56,175.26,172.72,188.42,165.1,175.26,175.26,160.02,162.56,101.6,162.56,93.98,165.1, 157.48,101.6,170.18,175.26,137.16,165.1,157.48,104.14,170.18,162.56]\n",
    "height_array = [77.8,157.48,185.42,185.42,175.26,175.26,157.48,167.64,154.94,162.56,175.26,172.72,188.42,165.1,175.26,175.26,160.02,162.56,101.6,162.56,93.98,165.1, 157.48,101.6,170.18,175.26,137.16,165.1,157.48,104.14,170.18,162.56]\n",
    "heigth_array = np.mean(height_array)\n",
    "print(height_array)"
   ]
  },
  {
   "cell_type": "code",
   "execution_count": 4,
   "metadata": {},
   "outputs": [
    {
     "name": "stdout",
     "output_type": "stream",
     "text": [
      "28.059783498808393\n"
     ]
    }
   ],
   "source": [
    "#List 3 Height\n",
    "#Standard Variation\n",
    "import numpy as np\n",
    "height=[77.8,157.48,185.42,185.42,175.26,175.26,157.48,167.64,154.94,162.56,175.26,172.72,188.42,165.1,175.26,175.26,160.02,162.56,101.6,162.56,93.98,165.1, 157.48,101.6,170.18,175.26,137.16,165.1,157.48,104.14,170.18,162.56]\n",
    "height_array= [77.8,157.48,185.42,185.42,175.26,175.26,157.48,167.64,154.94,162.56,175.26,172.72,188.42,165.1,175.26,175.26,160.02,162.56,101.6,162.56,93.98,165.1, 157.48,101.6,170.18,175.26,137.16,165.1,157.48,104.14,170.18,162.56]\n",
    "height_array = np.std(height_array)\n",
    "print(height_array)"
   ]
  },
  {
   "cell_type": "code",
   "execution_count": 5,
   "metadata": {},
   "outputs": [
    {
     "name": "stdout",
     "output_type": "stream",
     "text": [
      "787.3514499999999\n"
     ]
    }
   ],
   "source": [
    "#List 3 Height\n",
    "#Variance\n",
    "height=[77.8,157.48,185.42,185.42,175.26,175.26,157.48,167.64,154.94,162.56,175.26,172.72,188.42,165.1,175.26,175.26,160.02,162.56,101.6,162.56,93.98,165.1, 157.48,101.6,170.18,175.26,137.16,165.1,157.48,104.14,170.18,162.56]\n",
    "height_array = [77.8,157.48,185.42,185.42,175.26,175.26,157.48,167.64,154.94,162.56,175.26,172.72,188.42,165.1,175.26,175.26,160.02,162.56,101.6,162.56,93.98,165.1, 157.48,101.6,170.18,175.26,137.16,165.1,157.48,104.14,170.18,162.56]\n",
    "height_array = np.var(height_array)\n",
    "print(height_array)\n"
   ]
  }
 ],
 "metadata": {
  "kernelspec": {
   "display_name": "Python 3",
   "language": "python",
   "name": "python3"
  },
  "language_info": {
   "codemirror_mode": {
    "name": "ipython",
    "version": 3
   },
   "file_extension": ".py",
   "mimetype": "text/x-python",
   "name": "python",
   "nbconvert_exporter": "python",
   "pygments_lexer": "ipython3",
   "version": "3.11.4"
  },
  "orig_nbformat": 4
 },
 "nbformat": 4,
 "nbformat_minor": 2
}
