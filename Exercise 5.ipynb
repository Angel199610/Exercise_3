{
 "cells": [
  {
   "cell_type": "markdown",
   "metadata": {},
   "source": [
    "EXERCISE 3"
   ]
  },
  {
   "cell_type": "code",
   "execution_count": null,
   "metadata": {},
   "outputs": [],
   "source": [
    "#list of 4 elements\n",
    "list_1 = [\"men\", \"women\", \"girls\"]\n",
    "list_2 = [True, False, True]\n",
    "list_3 = [1, 5,6,7,8]"
   ]
  },
  {
   "cell_type": "code",
   "execution_count": null,
   "metadata": {},
   "outputs": [],
   "source": [
    "list_1 = [\"men\", \"women\", \"girls\"]\n",
    "print((type(list_1)))"
   ]
  },
  {
   "cell_type": "code",
   "execution_count": 1,
   "metadata": {},
   "outputs": [
    {
     "name": "stdout",
     "output_type": "stream",
     "text": [
      "(9.9, 7.99, 7.99, 7.49, 7.0, 7.5, 5, 4.4, 3.75, 2.25)\n"
     ]
    }
   ],
   "source": [
    "import numpy as np\n",
    "CJ = (9.9, 7.99, 7.99,7.49,7.00)\n",
    "KFC = (7.5, 5, 4.4, 3.75, 2.25)\n",
    "total_sum = (CJ + KFC)\n",
    "print(total_sum)"
   ]
  },
  {
   "cell_type": "code",
   "execution_count": 2,
   "metadata": {},
   "outputs": [
    {
     "name": "stdout",
     "output_type": "stream",
     "text": [
      "<class 'tuple'>\n"
     ]
    }
   ],
   "source": [
    "#Getting the type\n",
    "CJ = (9.9, 7.99, 7.99,7.49,7.00)\n",
    "print((type(CJ)))"
   ]
  },
  {
   "cell_type": "code",
   "execution_count": 3,
   "metadata": {},
   "outputs": [
    {
     "name": "stdout",
     "output_type": "stream",
     "text": [
      "<class 'tuple'>\n"
     ]
    }
   ],
   "source": [
    "#Getting the type\n",
    "KFC = (7.5, 5, 4.4, 3.75, 2.25)\n",
    "print((type(KFC)))"
   ]
  },
  {
   "cell_type": "code",
   "execution_count": 4,
   "metadata": {},
   "outputs": [
    {
     "name": "stdout",
     "output_type": "stream",
     "text": [
      "5\n"
     ]
    }
   ],
   "source": [
    "#Getting a len\n",
    "KFC = (7.5, 5, 4.4, 3.75, 2.25)\n",
    "print(len(KFC))"
   ]
  },
  {
   "cell_type": "code",
   "execution_count": 5,
   "metadata": {},
   "outputs": [
    {
     "name": "stdout",
     "output_type": "stream",
     "text": [
      "5\n"
     ]
    }
   ],
   "source": [
    "#Getting the len\n",
    "CJ = (9.9, 7.99, 7.99,7.49,7.00)\n",
    "print(len(CJ))"
   ]
  },
  {
   "cell_type": "code",
   "execution_count": 6,
   "metadata": {},
   "outputs": [
    {
     "name": "stdout",
     "output_type": "stream",
     "text": [
      "float64\n"
     ]
    }
   ],
   "source": [
    "#creating datatypes\n",
    "import numpy as np\n",
    "CJ_array = np.array([9.9, 7.99, 7.99,7.49,7.00])\n",
    "print(CJ_array.dtype)"
   ]
  },
  {
   "cell_type": "code",
   "execution_count": 2,
   "metadata": {},
   "outputs": [
    {
     "name": "stdout",
     "output_type": "stream",
     "text": [
      "float64\n"
     ]
    }
   ],
   "source": [
    "#creating datatypes\n",
    "import numpy as np\n",
    "KFC_array = np.array([7.5, 5, 4.4, 3.75, 2.25])\n",
    "print(KFC_array.dtype)\n"
   ]
  },
  {
   "cell_type": "code",
   "execution_count": 5,
   "metadata": {},
   "outputs": [
    {
     "ename": "NameError",
     "evalue": "name 'CJ_array' is not defined",
     "output_type": "error",
     "traceback": [
      "\u001b[1;31m---------------------------------------------------------------------------\u001b[0m",
      "\u001b[1;31mNameError\u001b[0m                                 Traceback (most recent call last)",
      "Cell \u001b[1;32mIn[5], line 2\u001b[0m\n\u001b[0;32m      1\u001b[0m \u001b[39m#Creating an object\u001b[39;00m\n\u001b[1;32m----> 2\u001b[0m difference \u001b[39m=\u001b[39m (KFC_array \u001b[39m-\u001b[39m CJ_array)\n\u001b[0;32m      3\u001b[0m \u001b[39mprint\u001b[39m(KFC_array \u001b[39m-\u001b[39m CJ_array)\n",
      "\u001b[1;31mNameError\u001b[0m: name 'CJ_array' is not defined"
     ]
    }
   ],
   "source": [
    "#Creating an object\n",
    "difference = (KFC_array - CJ_array)\n",
    "print(KFC_array - CJ_array)"
   ]
  },
  {
   "cell_type": "code",
   "execution_count": null,
   "metadata": {},
   "outputs": [],
   "source": [
    "#mean of the difference\n",
    "np.mean(difference)"
   ]
  },
  {
   "cell_type": "code",
   "execution_count": null,
   "metadata": {},
   "outputs": [],
   "source": [
    "#standard deviation\n",
    "np.std(KFC_array - CJ_array)"
   ]
  },
  {
   "cell_type": "code",
   "execution_count": null,
   "metadata": {},
   "outputs": [],
   "source": []
  }
 ],
 "metadata": {
  "kernelspec": {
   "display_name": "Python 3",
   "language": "python",
   "name": "python3"
  },
  "language_info": {
   "codemirror_mode": {
    "name": "ipython",
    "version": 3
   },
   "file_extension": ".py",
   "mimetype": "text/x-python",
   "name": "python",
   "nbconvert_exporter": "python",
   "pygments_lexer": "ipython3",
   "version": "3.11.4"
  },
  "orig_nbformat": 4
 },
 "nbformat": 4,
 "nbformat_minor": 2
}
